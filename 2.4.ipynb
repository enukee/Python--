{
  "metadata": {
    "kernelspec": {
      "name": "python",
      "display_name": "Python (Pyodide)",
      "language": "python"
    },
    "language_info": {
      "codemirror_mode": {
        "name": "python",
        "version": 3
      },
      "file_extension": ".py",
      "mimetype": "text/x-python",
      "name": "python",
      "nbconvert_exporter": "python",
      "pygments_lexer": "ipython3",
      "version": "3.8"
    }
  },
  "nbformat_minor": 4,
  "nbformat": 4,
  "cells": [
    {
      "cell_type": "code",
      "source": "import pandas as pd",
      "metadata": {
        "trusted": true
      },
      "outputs": [],
      "execution_count": 95
    },
    {
      "cell_type": "code",
      "source": "df = pd.read_csv('gym_members_exercise_tracking.csv')\ndf",
      "metadata": {
        "trusted": true
      },
      "outputs": [
        {
          "execution_count": 96,
          "output_type": "execute_result",
          "data": {
            "text/plain": "     Age  Gender  Weight (kg)  Height (m)  Max_BPM  Avg_BPM  Resting_BPM  \\\n0     56    Male         88.3        1.71      180      157           60   \n1     46  Female         74.9        1.53      179      151           66   \n2     32  Female         68.1        1.66      167      122           54   \n3     25    Male         53.2        1.70      190      164           56   \n4     38    Male         46.1        1.79      188      158           68   \n..   ...     ...          ...         ...      ...      ...          ...   \n968   24    Male         87.1        1.74      187      158           67   \n969   25    Male         66.6        1.61      184      166           56   \n970   59  Female         60.4        1.76      194      120           53   \n971   32    Male        126.4        1.83      198      146           62   \n972   46    Male         88.7        1.63      166      146           66   \n\n     Session_Duration (hours)  Calories_Burned Workout_Type  Fat_Percentage  \\\n0                        1.69           1313.0         Yoga            12.6   \n1                        1.30            883.0         HIIT            33.9   \n2                        1.11            677.0       Cardio            33.4   \n3                        0.59            532.0     Strength            28.8   \n4                        0.64            556.0     Strength            29.2   \n..                        ...              ...          ...             ...   \n968                      1.57           1364.0     Strength            10.0   \n969                      1.38           1260.0     Strength            25.0   \n970                      1.72            929.0       Cardio            18.8   \n971                      1.10            883.0         HIIT            28.2   \n972                      0.75            542.0     Strength            28.8   \n\n     Water_Intake (liters)  Workout_Frequency (days/week)  Experience_Level  \\\n0                      3.5                              4                 3   \n1                      2.1                              4                 2   \n2                      2.3                              4                 2   \n3                      2.1                              3                 1   \n4                      2.8                              3                 1   \n..                     ...                            ...               ...   \n968                    3.5                              4                 3   \n969                    3.0                              2                 1   \n970                    2.7                              5                 3   \n971                    2.1                              3                 2   \n972                    3.5                              2                 1   \n\n       BMI  \n0    30.20  \n1    32.00  \n2    24.71  \n3    18.41  \n4    14.39  \n..     ...  \n968  28.77  \n969  25.69  \n970  19.50  \n971  37.74  \n972  33.38  \n\n[973 rows x 15 columns]",
            "text/html": "<div>\n<style scoped>\n    .dataframe tbody tr th:only-of-type {\n        vertical-align: middle;\n    }\n\n    .dataframe tbody tr th {\n        vertical-align: top;\n    }\n\n    .dataframe thead th {\n        text-align: right;\n    }\n</style>\n<table border=\"1\" class=\"dataframe\">\n  <thead>\n    <tr style=\"text-align: right;\">\n      <th></th>\n      <th>Age</th>\n      <th>Gender</th>\n      <th>Weight (kg)</th>\n      <th>Height (m)</th>\n      <th>Max_BPM</th>\n      <th>Avg_BPM</th>\n      <th>Resting_BPM</th>\n      <th>Session_Duration (hours)</th>\n      <th>Calories_Burned</th>\n      <th>Workout_Type</th>\n      <th>Fat_Percentage</th>\n      <th>Water_Intake (liters)</th>\n      <th>Workout_Frequency (days/week)</th>\n      <th>Experience_Level</th>\n      <th>BMI</th>\n    </tr>\n  </thead>\n  <tbody>\n    <tr>\n      <th>0</th>\n      <td>56</td>\n      <td>Male</td>\n      <td>88.3</td>\n      <td>1.71</td>\n      <td>180</td>\n      <td>157</td>\n      <td>60</td>\n      <td>1.69</td>\n      <td>1313.0</td>\n      <td>Yoga</td>\n      <td>12.6</td>\n      <td>3.5</td>\n      <td>4</td>\n      <td>3</td>\n      <td>30.20</td>\n    </tr>\n    <tr>\n      <th>1</th>\n      <td>46</td>\n      <td>Female</td>\n      <td>74.9</td>\n      <td>1.53</td>\n      <td>179</td>\n      <td>151</td>\n      <td>66</td>\n      <td>1.30</td>\n      <td>883.0</td>\n      <td>HIIT</td>\n      <td>33.9</td>\n      <td>2.1</td>\n      <td>4</td>\n      <td>2</td>\n      <td>32.00</td>\n    </tr>\n    <tr>\n      <th>2</th>\n      <td>32</td>\n      <td>Female</td>\n      <td>68.1</td>\n      <td>1.66</td>\n      <td>167</td>\n      <td>122</td>\n      <td>54</td>\n      <td>1.11</td>\n      <td>677.0</td>\n      <td>Cardio</td>\n      <td>33.4</td>\n      <td>2.3</td>\n      <td>4</td>\n      <td>2</td>\n      <td>24.71</td>\n    </tr>\n    <tr>\n      <th>3</th>\n      <td>25</td>\n      <td>Male</td>\n      <td>53.2</td>\n      <td>1.70</td>\n      <td>190</td>\n      <td>164</td>\n      <td>56</td>\n      <td>0.59</td>\n      <td>532.0</td>\n      <td>Strength</td>\n      <td>28.8</td>\n      <td>2.1</td>\n      <td>3</td>\n      <td>1</td>\n      <td>18.41</td>\n    </tr>\n    <tr>\n      <th>4</th>\n      <td>38</td>\n      <td>Male</td>\n      <td>46.1</td>\n      <td>1.79</td>\n      <td>188</td>\n      <td>158</td>\n      <td>68</td>\n      <td>0.64</td>\n      <td>556.0</td>\n      <td>Strength</td>\n      <td>29.2</td>\n      <td>2.8</td>\n      <td>3</td>\n      <td>1</td>\n      <td>14.39</td>\n    </tr>\n    <tr>\n      <th>...</th>\n      <td>...</td>\n      <td>...</td>\n      <td>...</td>\n      <td>...</td>\n      <td>...</td>\n      <td>...</td>\n      <td>...</td>\n      <td>...</td>\n      <td>...</td>\n      <td>...</td>\n      <td>...</td>\n      <td>...</td>\n      <td>...</td>\n      <td>...</td>\n      <td>...</td>\n    </tr>\n    <tr>\n      <th>968</th>\n      <td>24</td>\n      <td>Male</td>\n      <td>87.1</td>\n      <td>1.74</td>\n      <td>187</td>\n      <td>158</td>\n      <td>67</td>\n      <td>1.57</td>\n      <td>1364.0</td>\n      <td>Strength</td>\n      <td>10.0</td>\n      <td>3.5</td>\n      <td>4</td>\n      <td>3</td>\n      <td>28.77</td>\n    </tr>\n    <tr>\n      <th>969</th>\n      <td>25</td>\n      <td>Male</td>\n      <td>66.6</td>\n      <td>1.61</td>\n      <td>184</td>\n      <td>166</td>\n      <td>56</td>\n      <td>1.38</td>\n      <td>1260.0</td>\n      <td>Strength</td>\n      <td>25.0</td>\n      <td>3.0</td>\n      <td>2</td>\n      <td>1</td>\n      <td>25.69</td>\n    </tr>\n    <tr>\n      <th>970</th>\n      <td>59</td>\n      <td>Female</td>\n      <td>60.4</td>\n      <td>1.76</td>\n      <td>194</td>\n      <td>120</td>\n      <td>53</td>\n      <td>1.72</td>\n      <td>929.0</td>\n      <td>Cardio</td>\n      <td>18.8</td>\n      <td>2.7</td>\n      <td>5</td>\n      <td>3</td>\n      <td>19.50</td>\n    </tr>\n    <tr>\n      <th>971</th>\n      <td>32</td>\n      <td>Male</td>\n      <td>126.4</td>\n      <td>1.83</td>\n      <td>198</td>\n      <td>146</td>\n      <td>62</td>\n      <td>1.10</td>\n      <td>883.0</td>\n      <td>HIIT</td>\n      <td>28.2</td>\n      <td>2.1</td>\n      <td>3</td>\n      <td>2</td>\n      <td>37.74</td>\n    </tr>\n    <tr>\n      <th>972</th>\n      <td>46</td>\n      <td>Male</td>\n      <td>88.7</td>\n      <td>1.63</td>\n      <td>166</td>\n      <td>146</td>\n      <td>66</td>\n      <td>0.75</td>\n      <td>542.0</td>\n      <td>Strength</td>\n      <td>28.8</td>\n      <td>3.5</td>\n      <td>2</td>\n      <td>1</td>\n      <td>33.38</td>\n    </tr>\n  </tbody>\n</table>\n<p>973 rows × 15 columns</p>\n</div>"
          },
          "metadata": {}
        }
      ],
      "execution_count": 96
    },
    {
      "cell_type": "code",
      "source": "df.columns",
      "metadata": {
        "trusted": true
      },
      "outputs": [
        {
          "execution_count": 97,
          "output_type": "execute_result",
          "data": {
            "text/plain": "Index(['Age', 'Gender', 'Weight (kg)', 'Height (m)', 'Max_BPM', 'Avg_BPM',\n       'Resting_BPM', 'Session_Duration (hours)', 'Calories_Burned',\n       'Workout_Type', 'Fat_Percentage', 'Water_Intake (liters)',\n       'Workout_Frequency (days/week)', 'Experience_Level', 'BMI'],\n      dtype='object')"
          },
          "metadata": {}
        }
      ],
      "execution_count": 97
    },
    {
      "cell_type": "code",
      "source": "df.info()\n# Вывод:\n# использованная паямять 106.5Кб\n# количество столбцов 15\n# индекс диапазонов от 0 до 14\n# не нулевых значений строк нет ",
      "metadata": {
        "trusted": true
      },
      "outputs": [
        {
          "name": "stdout",
          "text": "<class 'pandas.core.frame.DataFrame'>\nRangeIndex: 973 entries, 0 to 972\nData columns (total 15 columns):\n #   Column                         Non-Null Count  Dtype  \n---  ------                         --------------  -----  \n 0   Age                            973 non-null    int64  \n 1   Gender                         973 non-null    object \n 2   Weight (kg)                    973 non-null    float64\n 3   Height (m)                     973 non-null    float64\n 4   Max_BPM                        973 non-null    int64  \n 5   Avg_BPM                        973 non-null    int64  \n 6   Resting_BPM                    973 non-null    int64  \n 7   Session_Duration (hours)       973 non-null    float64\n 8   Calories_Burned                973 non-null    float64\n 9   Workout_Type                   973 non-null    object \n 10  Fat_Percentage                 973 non-null    float64\n 11  Water_Intake (liters)          973 non-null    float64\n 12  Workout_Frequency (days/week)  973 non-null    int64  \n 13  Experience_Level               973 non-null    int64  \n 14  BMI                            973 non-null    float64\ndtypes: float64(7), int64(6), object(2)\nmemory usage: 106.5+ KB\n",
          "output_type": "stream"
        }
      ],
      "execution_count": 98
    },
    {
      "cell_type": "code",
      "source": "df.isnull().sum()",
      "metadata": {
        "trusted": true
      },
      "outputs": [
        {
          "execution_count": 99,
          "output_type": "execute_result",
          "data": {
            "text/plain": "Age                              0\nGender                           0\nWeight (kg)                      0\nHeight (m)                       0\nMax_BPM                          0\nAvg_BPM                          0\nResting_BPM                      0\nSession_Duration (hours)         0\nCalories_Burned                  0\nWorkout_Type                     0\nFat_Percentage                   0\nWater_Intake (liters)            0\nWorkout_Frequency (days/week)    0\nExperience_Level                 0\nBMI                              0\ndtype: int64"
          },
          "metadata": {}
        }
      ],
      "execution_count": 99
    },
    {
      "cell_type": "code",
      "source": "(df.duplicated()==True).sum()\n# Вывод\n# вывод в данных нет дупликатов\n# (из прошлого вывод следует что пропущенных значений нет)",
      "metadata": {
        "trusted": true
      },
      "outputs": [
        {
          "execution_count": 100,
          "output_type": "execute_result",
          "data": {
            "text/plain": "0"
          },
          "metadata": {}
        }
      ],
      "execution_count": 100
    },
    {
      "cell_type": "code",
      "source": "df.head(4)",
      "metadata": {
        "trusted": true
      },
      "outputs": [
        {
          "execution_count": 101,
          "output_type": "execute_result",
          "data": {
            "text/plain": "   Age  Gender  Weight (kg)  Height (m)  Max_BPM  Avg_BPM  Resting_BPM  \\\n0   56    Male         88.3        1.71      180      157           60   \n1   46  Female         74.9        1.53      179      151           66   \n2   32  Female         68.1        1.66      167      122           54   \n3   25    Male         53.2        1.70      190      164           56   \n\n   Session_Duration (hours)  Calories_Burned Workout_Type  Fat_Percentage  \\\n0                      1.69           1313.0         Yoga            12.6   \n1                      1.30            883.0         HIIT            33.9   \n2                      1.11            677.0       Cardio            33.4   \n3                      0.59            532.0     Strength            28.8   \n\n   Water_Intake (liters)  Workout_Frequency (days/week)  Experience_Level  \\\n0                    3.5                              4                 3   \n1                    2.1                              4                 2   \n2                    2.3                              4                 2   \n3                    2.1                              3                 1   \n\n     BMI  \n0  30.20  \n1  32.00  \n2  24.71  \n3  18.41  ",
            "text/html": "<div>\n<style scoped>\n    .dataframe tbody tr th:only-of-type {\n        vertical-align: middle;\n    }\n\n    .dataframe tbody tr th {\n        vertical-align: top;\n    }\n\n    .dataframe thead th {\n        text-align: right;\n    }\n</style>\n<table border=\"1\" class=\"dataframe\">\n  <thead>\n    <tr style=\"text-align: right;\">\n      <th></th>\n      <th>Age</th>\n      <th>Gender</th>\n      <th>Weight (kg)</th>\n      <th>Height (m)</th>\n      <th>Max_BPM</th>\n      <th>Avg_BPM</th>\n      <th>Resting_BPM</th>\n      <th>Session_Duration (hours)</th>\n      <th>Calories_Burned</th>\n      <th>Workout_Type</th>\n      <th>Fat_Percentage</th>\n      <th>Water_Intake (liters)</th>\n      <th>Workout_Frequency (days/week)</th>\n      <th>Experience_Level</th>\n      <th>BMI</th>\n    </tr>\n  </thead>\n  <tbody>\n    <tr>\n      <th>0</th>\n      <td>56</td>\n      <td>Male</td>\n      <td>88.3</td>\n      <td>1.71</td>\n      <td>180</td>\n      <td>157</td>\n      <td>60</td>\n      <td>1.69</td>\n      <td>1313.0</td>\n      <td>Yoga</td>\n      <td>12.6</td>\n      <td>3.5</td>\n      <td>4</td>\n      <td>3</td>\n      <td>30.20</td>\n    </tr>\n    <tr>\n      <th>1</th>\n      <td>46</td>\n      <td>Female</td>\n      <td>74.9</td>\n      <td>1.53</td>\n      <td>179</td>\n      <td>151</td>\n      <td>66</td>\n      <td>1.30</td>\n      <td>883.0</td>\n      <td>HIIT</td>\n      <td>33.9</td>\n      <td>2.1</td>\n      <td>4</td>\n      <td>2</td>\n      <td>32.00</td>\n    </tr>\n    <tr>\n      <th>2</th>\n      <td>32</td>\n      <td>Female</td>\n      <td>68.1</td>\n      <td>1.66</td>\n      <td>167</td>\n      <td>122</td>\n      <td>54</td>\n      <td>1.11</td>\n      <td>677.0</td>\n      <td>Cardio</td>\n      <td>33.4</td>\n      <td>2.3</td>\n      <td>4</td>\n      <td>2</td>\n      <td>24.71</td>\n    </tr>\n    <tr>\n      <th>3</th>\n      <td>25</td>\n      <td>Male</td>\n      <td>53.2</td>\n      <td>1.70</td>\n      <td>190</td>\n      <td>164</td>\n      <td>56</td>\n      <td>0.59</td>\n      <td>532.0</td>\n      <td>Strength</td>\n      <td>28.8</td>\n      <td>2.1</td>\n      <td>3</td>\n      <td>1</td>\n      <td>18.41</td>\n    </tr>\n  </tbody>\n</table>\n</div>"
          },
          "metadata": {}
        }
      ],
      "execution_count": 101
    },
    {
      "cell_type": "code",
      "source": "df.rename(columns=lambda x: x.replace(\" \", \"_\").replace(\"/\", \"_\").replace(\"(\", \"\").replace(\")\", \"\").lower(), inplace = True)\n# для предобработки данных можно исспользовать rename() чтобы привести названия столбцов в более удобный вид",
      "metadata": {
        "trusted": true
      },
      "outputs": [],
      "execution_count": 102
    },
    {
      "cell_type": "code",
      "source": "df.head(4)",
      "metadata": {
        "trusted": true
      },
      "outputs": [
        {
          "execution_count": 103,
          "output_type": "execute_result",
          "data": {
            "text/plain": "   age  gender  weight_kg  height_m  max_bpm  avg_bpm  resting_bpm  \\\n0   56    Male       88.3      1.71      180      157           60   \n1   46  Female       74.9      1.53      179      151           66   \n2   32  Female       68.1      1.66      167      122           54   \n3   25    Male       53.2      1.70      190      164           56   \n\n   session_duration_hours  calories_burned workout_type  fat_percentage  \\\n0                    1.69           1313.0         Yoga            12.6   \n1                    1.30            883.0         HIIT            33.9   \n2                    1.11            677.0       Cardio            33.4   \n3                    0.59            532.0     Strength            28.8   \n\n   water_intake_liters  workout_frequency_days_week  experience_level    bmi  \n0                  3.5                            4                 3  30.20  \n1                  2.1                            4                 2  32.00  \n2                  2.3                            4                 2  24.71  \n3                  2.1                            3                 1  18.41  ",
            "text/html": "<div>\n<style scoped>\n    .dataframe tbody tr th:only-of-type {\n        vertical-align: middle;\n    }\n\n    .dataframe tbody tr th {\n        vertical-align: top;\n    }\n\n    .dataframe thead th {\n        text-align: right;\n    }\n</style>\n<table border=\"1\" class=\"dataframe\">\n  <thead>\n    <tr style=\"text-align: right;\">\n      <th></th>\n      <th>age</th>\n      <th>gender</th>\n      <th>weight_kg</th>\n      <th>height_m</th>\n      <th>max_bpm</th>\n      <th>avg_bpm</th>\n      <th>resting_bpm</th>\n      <th>session_duration_hours</th>\n      <th>calories_burned</th>\n      <th>workout_type</th>\n      <th>fat_percentage</th>\n      <th>water_intake_liters</th>\n      <th>workout_frequency_days_week</th>\n      <th>experience_level</th>\n      <th>bmi</th>\n    </tr>\n  </thead>\n  <tbody>\n    <tr>\n      <th>0</th>\n      <td>56</td>\n      <td>Male</td>\n      <td>88.3</td>\n      <td>1.71</td>\n      <td>180</td>\n      <td>157</td>\n      <td>60</td>\n      <td>1.69</td>\n      <td>1313.0</td>\n      <td>Yoga</td>\n      <td>12.6</td>\n      <td>3.5</td>\n      <td>4</td>\n      <td>3</td>\n      <td>30.20</td>\n    </tr>\n    <tr>\n      <th>1</th>\n      <td>46</td>\n      <td>Female</td>\n      <td>74.9</td>\n      <td>1.53</td>\n      <td>179</td>\n      <td>151</td>\n      <td>66</td>\n      <td>1.30</td>\n      <td>883.0</td>\n      <td>HIIT</td>\n      <td>33.9</td>\n      <td>2.1</td>\n      <td>4</td>\n      <td>2</td>\n      <td>32.00</td>\n    </tr>\n    <tr>\n      <th>2</th>\n      <td>32</td>\n      <td>Female</td>\n      <td>68.1</td>\n      <td>1.66</td>\n      <td>167</td>\n      <td>122</td>\n      <td>54</td>\n      <td>1.11</td>\n      <td>677.0</td>\n      <td>Cardio</td>\n      <td>33.4</td>\n      <td>2.3</td>\n      <td>4</td>\n      <td>2</td>\n      <td>24.71</td>\n    </tr>\n    <tr>\n      <th>3</th>\n      <td>25</td>\n      <td>Male</td>\n      <td>53.2</td>\n      <td>1.70</td>\n      <td>190</td>\n      <td>164</td>\n      <td>56</td>\n      <td>0.59</td>\n      <td>532.0</td>\n      <td>Strength</td>\n      <td>28.8</td>\n      <td>2.1</td>\n      <td>3</td>\n      <td>1</td>\n      <td>18.41</td>\n    </tr>\n  </tbody>\n</table>\n</div>"
          },
          "metadata": {}
        }
      ],
      "execution_count": 103
    },
    {
      "cell_type": "code",
      "source": "df.dropna(how='all', subset=['age', 'gender'], inplace=True)\n# для предобработки данных можно исспользовать dropna() чтобы удалить строчки в которых недостают значения столбцов age и gender",
      "metadata": {
        "trusted": true
      },
      "outputs": [],
      "execution_count": 110
    },
    {
      "cell_type": "code",
      "source": "df.fillna(df['age'].mean(), inplace=True)\n# для предобработки данных можно исспользовать fillna() чтобы заполнить недостающие значения столбца age средним значением",
      "metadata": {
        "trusted": true
      },
      "outputs": [],
      "execution_count": 111
    },
    {
      "cell_type": "code",
      "source": "df.groupby('workout_type')['age'].max().reset_index()",
      "metadata": {
        "trusted": true
      },
      "outputs": [
        {
          "execution_count": 112,
          "output_type": "execute_result",
          "data": {
            "text/plain": "  workout_type  age\n0       Cardio   59\n1         HIIT   59\n2     Strength   59\n3         Yoga   59",
            "text/html": "<div>\n<style scoped>\n    .dataframe tbody tr th:only-of-type {\n        vertical-align: middle;\n    }\n\n    .dataframe tbody tr th {\n        vertical-align: top;\n    }\n\n    .dataframe thead th {\n        text-align: right;\n    }\n</style>\n<table border=\"1\" class=\"dataframe\">\n  <thead>\n    <tr style=\"text-align: right;\">\n      <th></th>\n      <th>workout_type</th>\n      <th>age</th>\n    </tr>\n  </thead>\n  <tbody>\n    <tr>\n      <th>0</th>\n      <td>Cardio</td>\n      <td>59</td>\n    </tr>\n    <tr>\n      <th>1</th>\n      <td>HIIT</td>\n      <td>59</td>\n    </tr>\n    <tr>\n      <th>2</th>\n      <td>Strength</td>\n      <td>59</td>\n    </tr>\n    <tr>\n      <th>3</th>\n      <td>Yoga</td>\n      <td>59</td>\n    </tr>\n  </tbody>\n</table>\n</div>"
          },
          "metadata": {}
        }
      ],
      "execution_count": 112
    },
    {
      "cell_type": "code",
      "source": "",
      "metadata": {
        "trusted": true
      },
      "outputs": [],
      "execution_count": null
    }
  ]
}